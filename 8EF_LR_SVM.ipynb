{
  "nbformat": 4,
  "nbformat_minor": 0,
  "metadata": {
    "kernelspec": {
      "display_name": "Python 3",
      "language": "python",
      "name": "python3"
    },
    "language_info": {
      "codemirror_mode": {
        "name": "ipython",
        "version": 3
      },
      "file_extension": ".py",
      "mimetype": "text/x-python",
      "name": "python",
      "nbconvert_exporter": "python",
      "pygments_lexer": "ipython3",
      "version": "3.7.3"
    },
    "colab": {
      "name": "8e&f_lr_svm.ipynb",
      "provenance": []
    }
  },
  "cells": [
    {
      "cell_type": "code",
      "metadata": {
        "id": "KA7FCQtaT-2s",
        "colab_type": "code",
        "colab": {}
      },
      "source": [
        "import numpy as np\n",
        "import pandas as pd\n",
        "from sklearn.svm import SVC\n",
        "from sklearn.datasets import make_classification\n",
        "from sklearn.model_selection import train_test_split"
      ],
      "execution_count": null,
      "outputs": []
    },
    {
      "cell_type": "code",
      "metadata": {
        "id": "tGIy5IpCT-22",
        "colab_type": "code",
        "colab": {}
      },
      "source": [
        "# Making datasets\n",
        "X, y = make_classification(n_samples = 5000, n_features = 5, n_redundant = 2, n_classes = 2, weights = [0.7], class_sep = 0.7, random_state = 15)\n",
        "X_train, X_test, y_train, y_test = train_test_split(X, y, test_size = 0.20, stratify = y)\n",
        "X_train, X_cv, y_train, y_cv = train_test_split(X_train, y_train, test_size = 0.20, stratify = y_train)"
      ],
      "execution_count": null,
      "outputs": []
    },
    {
      "cell_type": "markdown",
      "metadata": {
        "id": "sLdKKTlaP3FL",
        "colab_type": "text"
      },
      "source": [
        "# Task E"
      ]
    },
    {
      "cell_type": "code",
      "metadata": {
        "id": "j3SLMEIsT-29",
        "colab_type": "code",
        "colab": {
          "base_uri": "https://localhost:8080/",
          "height": 85
        },
        "outputId": "97e0bac4-be36-47ff-9489-bccd1717741f"
      },
      "source": [
        "clf = SVC(gamma = 0.001, C = 100) # Initializing classifier\n",
        "clf.fit(X_train, y_train) # Fitting classifier with the data"
      ],
      "execution_count": null,
      "outputs": [
        {
          "output_type": "execute_result",
          "data": {
            "text/plain": [
              "SVC(C=100, break_ties=False, cache_size=200, class_weight=None, coef0=0.0,\n",
              "    decision_function_shape='ovr', degree=3, gamma=0.001, kernel='rbf',\n",
              "    max_iter=-1, probability=False, random_state=None, shrinking=True,\n",
              "    tol=0.001, verbose=False)"
            ]
          },
          "metadata": {
            "tags": []
          },
          "execution_count": 3
        }
      ]
    },
    {
      "cell_type": "code",
      "metadata": {
        "id": "TxeIzLs7AQEd",
        "colab_type": "code",
        "colab": {}
      },
      "source": [
        "import math\n",
        "from numpy import linalg as la"
      ],
      "execution_count": null,
      "outputs": []
    },
    {
      "cell_type": "code",
      "metadata": {
        "id": "9enAR1Udr5hX",
        "colab_type": "code",
        "colab": {}
      },
      "source": [
        "def decision_function(X_cv_data, gamma):\n",
        "  ''' This function computes the decision value'''\n",
        "  decision_value = []\n",
        "  for cv_data in X_cv_data: # Iterating through each data point\n",
        "      sum = 0\n",
        "      for i in range(len(clf.support_vectors_)):\n",
        "          l2_norm_squared = (la.norm(clf.support_vectors_[i] - cv_data) ** 2) # Calculating l2 normalized value\n",
        "          kernel_value = math.exp(-gamma * l2_norm_squared) # Calculating kernel value\n",
        "          sum += (clf.dual_coef_[0][i] * kernel_value)\n",
        "      sum += clf.intercept_\n",
        "      decision_value.extend(sum)\n",
        "  return np.array(decision_value)"
      ],
      "execution_count": null,
      "outputs": []
    },
    {
      "cell_type": "code",
      "metadata": {
        "id": "1uMkpVCXT-38",
        "colab_type": "code",
        "colab": {}
      },
      "source": [
        "fcv = decision_function(X_cv, 0.001)"
      ],
      "execution_count": null,
      "outputs": []
    },
    {
      "cell_type": "code",
      "metadata": {
        "id": "bnB9ngXPT-4C",
        "colab_type": "code",
        "colab": {
          "base_uri": "https://localhost:8080/",
          "height": 34
        },
        "outputId": "fd746483-ac57-4763-c35f-aa9f09b0c174"
      },
      "source": [
        "print(fcv[:5]) # Printing decision values from our own implemented decision function"
      ],
      "execution_count": null,
      "outputs": [
        {
          "output_type": "stream",
          "text": [
            "[-0.37355744 -2.7294127  -2.07524724 -0.55667951 -2.68346752]\n"
          ],
          "name": "stdout"
        }
      ]
    },
    {
      "cell_type": "code",
      "metadata": {
        "id": "7RzeloHAT-4I",
        "colab_type": "code",
        "colab": {
          "base_uri": "https://localhost:8080/",
          "height": 34
        },
        "outputId": "da9af30b-3d31-45c3-e3b3-db929b551fd9"
      },
      "source": [
        "print(clf.decision_function(X_cv[:5])) # Printing decision values from sklearn implemented decision function"
      ],
      "execution_count": null,
      "outputs": [
        {
          "output_type": "stream",
          "text": [
            "[-0.37355744 -2.7294127  -2.07524724 -0.55667951 -2.68346752]\n"
          ],
          "name": "stdout"
        }
      ]
    },
    {
      "cell_type": "markdown",
      "metadata": {
        "id": "Rkxsr2Ru9cnL",
        "colab_type": "text"
      },
      "source": [
        "# Task F"
      ]
    },
    {
      "cell_type": "code",
      "metadata": {
        "id": "7-42s9uu9rAJ",
        "colab_type": "code",
        "colab": {}
      },
      "source": [
        "train_positive = 0\n",
        "train_negative = 0\n",
        "for ele in y_train:\n",
        "  if ele == 1:\n",
        "    train_positive += 1 # Counting number of positive points\n",
        "  else:\n",
        "    train_negative += 1 # Counting number of negative points"
      ],
      "execution_count": null,
      "outputs": []
    },
    {
      "cell_type": "code",
      "metadata": {
        "id": "rbcsx0Fm-t4a",
        "colab_type": "code",
        "colab": {
          "base_uri": "https://localhost:8080/",
          "height": 51
        },
        "outputId": "5b4789e8-b068-4c02-b023-a9afa10cf743"
      },
      "source": [
        "print('Number of positive data points', train_positive)\n",
        "print('Number of negative data points', train_negative)"
      ],
      "execution_count": null,
      "outputs": [
        {
          "output_type": "stream",
          "text": [
            "Number of positive data points 969\n",
            "Number of negative data points 2231\n"
          ],
          "name": "stdout"
        }
      ]
    },
    {
      "cell_type": "code",
      "metadata": {
        "id": "oBIACy8v-5wN",
        "colab_type": "code",
        "colab": {}
      },
      "source": [
        "# Getting converted class label so that we can apply it in Platt Scaling\n",
        "y_positive = (train_positive + 1) / (train_positive + 2)\n",
        "y_negative = 1 / (train_negative + 2)"
      ],
      "execution_count": null,
      "outputs": []
    },
    {
      "cell_type": "code",
      "metadata": {
        "id": "k5ek6sQk_MEH",
        "colab_type": "code",
        "colab": {
          "base_uri": "https://localhost:8080/",
          "height": 51
        },
        "outputId": "03a7a073-6c6d-4019-8b61-3363627fc031"
      },
      "source": [
        "print('y_positive', y_positive)\n",
        "print('y_negative', y_negative)"
      ],
      "execution_count": null,
      "outputs": [
        {
          "output_type": "stream",
          "text": [
            "y_positive 0.9989701338825953\n",
            "y_negative 0.0004478280340349306\n"
          ],
          "name": "stdout"
        }
      ]
    },
    {
      "cell_type": "code",
      "metadata": {
        "id": "lndv8VgMBaE1",
        "colab_type": "code",
        "colab": {}
      },
      "source": [
        "# Getting a new list for the label of the train data which contains all the modified class label values according to indices\n",
        "Y_train = []\n",
        "for ele in y_train:\n",
        "  if ele == 1:\n",
        "    Y_train.append(y_positive)\n",
        "  else:\n",
        "    Y_train.append(y_negative)\n",
        "Y_train = np.array(Y_train)"
      ],
      "execution_count": null,
      "outputs": []
    },
    {
      "cell_type": "code",
      "metadata": {
        "id": "NZ8KsNl2ETuI",
        "colab_type": "code",
        "colab": {}
      },
      "source": [
        "# Getting a new list for the label of the test data which contains all the modified class label values according to indices\n",
        "Y_test = []\n",
        "for ele in y_test:\n",
        "  if ele == 1:\n",
        "    Y_test.append(y_positive)\n",
        "  else:\n",
        "    Y_test.append(y_negative)\n",
        "Y_test = np.array(Y_test)"
      ],
      "execution_count": null,
      "outputs": []
    },
    {
      "cell_type": "code",
      "metadata": {
        "id": "hMG53Bn8_VQm",
        "colab_type": "code",
        "colab": {}
      },
      "source": [
        "w = np.zeros_like(X_train[0]) #Initializing weight vector\n",
        "b = 0  #Initializing intercept"
      ],
      "execution_count": null,
      "outputs": []
    },
    {
      "cell_type": "code",
      "metadata": {
        "id": "0HAyxuWNArZW",
        "colab_type": "code",
        "colab": {}
      },
      "source": [
        "N = len(X_train)\n",
        "learning_rate = 0.0001  #learning rate\n",
        "reg_constant = 0.0001   #regularization constant\n",
        "tol = 1e-3              #The stopping criterion"
      ],
      "execution_count": null,
      "outputs": []
    },
    {
      "cell_type": "code",
      "metadata": {
        "id": "Ynvcb2xOAuwh",
        "colab_type": "code",
        "colab": {}
      },
      "source": [
        "def log_loss(X_data, y_data, y, weight, intercept):\n",
        "    '''\n",
        "    This function computes the log loss\n",
        "    '''\n",
        "    log_loss = 0\n",
        "    for i in range(0, len(X_data)):\n",
        "        if y[i] == 1:\n",
        "          log_loss += y_data[i] * np.log10(sigmoid(weight, X_data[i], intercept))\n",
        "        else:\n",
        "          log_loss += y_data[i] * np.log10(1 - sigmoid(weight, X_data[i], intercept))\n",
        "    return -(log_loss) / len(X_data)"
      ],
      "execution_count": null,
      "outputs": []
    },
    {
      "cell_type": "code",
      "metadata": {
        "id": "JDm6v3cbAxtY",
        "colab_type": "code",
        "colab": {}
      },
      "source": [
        "def sigmoid(weight, data_point, intercept):\n",
        "    '''\n",
        "    This function computes the sigmoid(x)\n",
        "    '''\n",
        "    return 1 / (1 + np.exp(-(np.dot(weight, data_point) + intercept)))"
      ],
      "execution_count": null,
      "outputs": []
    },
    {
      "cell_type": "code",
      "metadata": {
        "id": "727pXjERA0G5",
        "colab_type": "code",
        "colab": {}
      },
      "source": [
        "import random\n",
        "def update_using_gradient_descent(X_train, y_train, Y_train, old_weight, old_intercept):\n",
        "    '''\n",
        "    This function updates weight and intercept using gradient descent, and computes train and test losses\n",
        "    '''\n",
        "    train_loss = []\n",
        "    test_loss = []\n",
        "    epoch_count = 0\n",
        "    \n",
        "    weight = old_weight\n",
        "    intercept = old_intercept\n",
        "    curr_loss = 0\n",
        "    for j in range(0, 2):\n",
        "        prev_loss = curr_loss\n",
        "        for i in range(len(X_train)):\n",
        "            #Updating weight\n",
        "            updated_weight = (1 - (learning_rate * reg_constant) / N) * weight + reg_constant * X_train[i] * (Y_train[i] - sigmoid(weight, X_train[i], intercept))\n",
        "            #Updating intercept\n",
        "            updated_intercept = intercept + reg_constant * (Y_train[i] - sigmoid(weight, X_train[i], intercept))\n",
        "            #Computing log loss for the train data point\n",
        "            weight = updated_weight\n",
        "            intercept = updated_intercept\n",
        "        curr_loss = log_loss(X_train, Y_train, y_train, weight, intercept)\n",
        "        train_loss.append(curr_loss)\n",
        "        #Computing log loss for the test data point\n",
        "        test_loss.append(log_loss(X_test, Y_test, y_test, weight, intercept))\n",
        "        epoch_count += 1\n",
        "    \n",
        "    while(prev_loss - curr_loss > tol):\n",
        "        prev_loss = curr_loss\n",
        "        for i in range(len(X_train)):\n",
        "            #Updating weight\n",
        "            updated_weight = (1 - (learning_rate * reg_constant) / N) * weight + reg_constant * X_train[i] * (Y_train[i] - sigmoid(weight, X_train[i], intercept))\n",
        "            #Updating intercept\n",
        "            updated_intercept = intercept + reg_constant * (Y_train[i] - sigmoid(weight, X_train[i], intercept))\n",
        "            #Computing log loss for the train data point\n",
        "            weight = updated_weight\n",
        "            intercept = updated_intercept \n",
        "        curr_loss = log_loss(X_train, Y_train, y_train, weight, intercept)\n",
        "        train_loss.append(curr_loss)\n",
        "        #Computing log loss for the test data point\n",
        "        test_loss.append(log_loss(X_test, Y_test, y_test, weight, intercept))\n",
        "        epoch_count += 1\n",
        "        \n",
        "    return train_loss, test_loss, weight, intercept, epoch_count"
      ],
      "execution_count": null,
      "outputs": []
    },
    {
      "cell_type": "code",
      "metadata": {
        "id": "Vbw5FIRGA3hU",
        "colab_type": "code",
        "colab": {}
      },
      "source": [
        "train_loss, test_loss, new_weight, new_intercept, epoch = update_using_gradient_descent(X_train, y_train, Y_train, w, b)"
      ],
      "execution_count": null,
      "outputs": []
    },
    {
      "cell_type": "code",
      "metadata": {
        "id": "l4qE9CMeFb7W",
        "colab_type": "code",
        "colab": {
          "base_uri": "https://localhost:8080/",
          "height": 122
        },
        "outputId": "26e136da-f814-4c14-a3b3-5e033bc5ff8d"
      },
      "source": [
        "print(train_loss)\n",
        "print(test_loss)\n",
        "print(new_weight)\n",
        "print(new_intercept)\n",
        "print(epoch)"
      ],
      "execution_count": null,
      "outputs": [
        {
          "output_type": "stream",
          "text": [
            "[0.08907955158557511, 0.08713018609851, 0.08529174624614042, 0.08355231588720972, 0.08190295498350453, 0.08033679298991948, 0.07884833806186146, 0.07743299565947767, 0.07608675235970862, 0.07480597724514532, 0.07358730190874273, 0.07242755075407527, 0.07132370229908636, 0.07027286887824599, 0.0692722867612919, 0.06831931177509168]\n",
            "[0.08908283721850968, 0.08708576984417661, 0.08520472846826824, 0.08342735683990396, 0.08174421488087102, 0.08014793778068967, 0.07863257848598634, 0.07719313919747649, 0.07582525683681356, 0.07452500066163686, 0.07328874637335926, 0.07211310011689868, 0.07099485388570026, 0.06993096004061458, 0.06891851702710988, 0.06795476133009393]\n",
            "[ 0.0088962  -0.06818712 -0.36157362 -0.45637939  1.05468689]\n",
            "-0.4441695528512706\n",
            "16\n"
          ],
          "name": "stdout"
        }
      ]
    },
    {
      "cell_type": "markdown",
      "metadata": {
        "id": "x5zgF7HtGdz7",
        "colab_type": "text"
      },
      "source": [
        "For a given data point from $X_{test}$, $P(Y=1|X) = \\frac{1}{1+exp(-(W*f_{test}+ b))}$ where ` `$f_{test}$ ```= decision_function(```$X_{test}$```)```, W and b will be learned as metioned in the above step"
      ]
    },
    {
      "cell_type": "code",
      "metadata": {
        "id": "RbHEqzgvFp32",
        "colab_type": "code",
        "colab": {}
      },
      "source": [
        "def positive_class_probability(data_point):\n",
        "  '''This function returns probability of a point belonging to the positive class'''\n",
        "  \n",
        "  return 1 / (1 + math.exp(-(np.dot(new_weight, data_point) + new_intercept)))"
      ],
      "execution_count": null,
      "outputs": []
    },
    {
      "cell_type": "code",
      "metadata": {
        "id": "Rg_YuK3NHK15",
        "colab_type": "code",
        "colab": {
          "base_uri": "https://localhost:8080/",
          "height": 34
        },
        "outputId": "9cf57ffe-0737-40ae-fd4b-bc896a84e7e0"
      },
      "source": [
        "print(positive_class_probability(X_test[0]))"
      ],
      "execution_count": null,
      "outputs": [
        {
          "output_type": "stream",
          "text": [
            "0.720033588138568\n"
          ],
          "name": "stdout"
        }
      ]
    },
    {
      "cell_type": "code",
      "metadata": {
        "id": "ijkNLDoWHXBr",
        "colab_type": "code",
        "colab": {
          "base_uri": "https://localhost:8080/",
          "height": 34
        },
        "outputId": "7468e4cb-2028-418a-c51b-fa9b34433e71"
      },
      "source": [
        "print(positive_class_probability(X_test[10]))"
      ],
      "execution_count": null,
      "outputs": [
        {
          "output_type": "stream",
          "text": [
            "0.10934162322037293\n"
          ],
          "name": "stdout"
        }
      ]
    },
    {
      "cell_type": "code",
      "metadata": {
        "id": "lqL0_9i5IHoJ",
        "colab_type": "code",
        "colab": {}
      },
      "source": [
        ""
      ],
      "execution_count": null,
      "outputs": []
    }
  ]
}